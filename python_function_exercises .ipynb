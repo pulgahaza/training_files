{
 "cells": [
  {
   "cell_type": "markdown",
   "metadata": {},
   "source": [
    "Excercises\n",
    "Crear una función que va a revisar dos números, si los dos son numeros par \n",
    "debe retornar el de menor valor, si uno o los dos son non debe retornar el de mayor valor.\n",
    "Hint:\n",
    "\n",
    "Cómo saber si un numero es par o non\n",
    "Como obtener el minimo y el maximo de un conjunto de numeros"
   ]
  },
  {
   "cell_type": "code",
   "execution_count": 14,
   "metadata": {},
   "outputs": [],
   "source": [
    "def mate(n1,n2):\n",
    "    if n1 % 2 == 0 and n2 % 2 == 0:\n",
    "        return min(n1,n2)\n",
    "    else:\n",
    "        return max(n1,n2)"
   ]
  },
  {
   "cell_type": "code",
   "execution_count": 17,
   "metadata": {},
   "outputs": [],
   "source": [
    "respuesta = mate(91,7)"
   ]
  },
  {
   "cell_type": "code",
   "execution_count": 18,
   "metadata": {},
   "outputs": [
    {
     "data": {
      "text/plain": [
       "91"
      ]
     },
     "execution_count": 18,
     "metadata": {},
     "output_type": "execute_result"
    }
   ],
   "source": [
    "respuesta"
   ]
  },
  {
   "cell_type": "code",
   "execution_count": 6,
   "metadata": {},
   "outputs": [
    {
     "name": "stdout",
     "output_type": "stream",
     "text": [
      "Escribe tu número80\n",
      "80 es un número par\n"
     ]
    }
   ],
   "source": [
    "number =int(input(\"Escribe tu número\"))\n",
    "if number % 2 == 0:\n",
    "    print(number, \"es un número par\")\n",
    "else:\n",
    "    print(number, \"es un número impar\")"
   ]
  },
  {
   "cell_type": "markdown",
   "metadata": {},
   "source": [
    "Crear un funcion que revise un string de dos palabras\n",
    "y regrese True si las dos comienzan con la misma letra\n",
    "diego diaz - True\n",
    "monse arenas - False\n",
    "\n",
    "Hint:\n",
    "\n",
    "Comparision Operators\n",
    "Indexing\n",
    "ASCII"
   ]
  },
  {
   "cell_type": "code",
   "execution_count": null,
   "metadata": {},
   "outputs": [],
   "source": []
  }
 ],
 "metadata": {
  "kernelspec": {
   "display_name": "Python 3",
   "language": "python",
   "name": "python3"
  },
  "language_info": {
   "codemirror_mode": {
    "name": "ipython",
    "version": 3
   },
   "file_extension": ".py",
   "mimetype": "text/x-python",
   "name": "python",
   "nbconvert_exporter": "python",
   "pygments_lexer": "ipython3",
   "version": "3.7.4"
  }
 },
 "nbformat": 4,
 "nbformat_minor": 2
}
