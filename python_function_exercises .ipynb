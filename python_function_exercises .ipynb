{
 "cells": [
  {
   "cell_type": "markdown",
   "metadata": {},
   "source": [
    "Excercises\n",
    "Crear una función que va a revisar dos números, si los dos son numeros par \n",
    "debe retornar el de menor valor, si uno o los dos son non debe retornar el de mayor valor.\n",
    "Hint:\n",
    "\n",
    "Cómo saber si un numero es par o non\n",
    "Como obtener el minimo y el maximo de un conjunto de numeros"
   ]
  },
  {
   "cell_type": "code",
   "execution_count": 14,
   "metadata": {},
   "outputs": [],
   "source": [
    "def mate(n1,n2):\n",
    "    if n1 % 2 == 0 and n2 % 2 == 0:\n",
    "        return min(n1,n2)\n",
    "    else:\n",
    "        return max(n1,n2)"
   ]
  },
  {
   "cell_type": "code",
   "execution_count": 17,
   "metadata": {},
   "outputs": [],
   "source": [
    "respuesta = mate(91,7)"
   ]
  },
  {
   "cell_type": "code",
   "execution_count": 18,
   "metadata": {},
   "outputs": [
    {
     "data": {
      "text/plain": [
       "91"
      ]
     },
     "execution_count": 18,
     "metadata": {},
     "output_type": "execute_result"
    }
   ],
   "source": [
    "respuesta"
   ]
  },
  {
   "cell_type": "code",
   "execution_count": 6,
   "metadata": {},
   "outputs": [
    {
     "name": "stdout",
     "output_type": "stream",
     "text": [
      "Escribe tu número80\n",
      "80 es un número par\n"
     ]
    }
   ],
   "source": [
    "number =int(input(\"Escribe tu número\"))\n",
    "if number % 2 == 0:\n",
    "    print(number, \"es un número par\")\n",
    "else:\n",
    "    print(number, \"es un número impar\")"
   ]
  },
  {
   "cell_type": "markdown",
   "metadata": {},
   "source": [
    "Crear un funcion que revise un string de dos palabras\n",
    "y regrese True si las dos comienzan con la misma letra\n",
    "diego diaz - True\n",
    "monse arenas - False\n",
    "\n",
    "Hint:\n",
    "\n",
    "Comparision Operators\n",
    "Indexing\n",
    "ASCII"
   ]
  },
  {
   "cell_type": "code",
   "execution_count": 10,
   "metadata": {},
   "outputs": [],
   "source": [
    "nombre = \"Ana Haza\""
   ]
  },
  {
   "cell_type": "code",
   "execution_count": 11,
   "metadata": {
    "scrolled": true
   },
   "outputs": [
    {
     "data": {
      "text/plain": [
       "'A'"
      ]
     },
     "execution_count": 11,
     "metadata": {},
     "output_type": "execute_result"
    }
   ],
   "source": [
    "nombre[0]"
   ]
  },
  {
   "cell_type": "code",
   "execution_count": 27,
   "metadata": {},
   "outputs": [],
   "source": [
    "def revision_nombre(name):\n",
    "    dos_name = name.split() #separa a partir de espacio\n",
    "        # [\"Diego\", \"Ugalde\"]\n",
    "    if dos_name[0][0].upper() == dos_name[1][0].upper(): #cambio temporal a mayusculas\n",
    "        return True\n",
    "    else:\n",
    "        return False"
   ]
  },
  {
   "cell_type": "code",
   "execution_count": 30,
   "metadata": {},
   "outputs": [
    {
     "data": {
      "text/plain": [
       "True"
      ]
     },
     "execution_count": 30,
     "metadata": {},
     "output_type": "execute_result"
    }
   ],
   "source": [
    "revision_nombre(\"Pepe pina\")"
   ]
  },
  {
   "cell_type": "markdown",
   "metadata": {},
   "source": [
    "a) Comparar si dos strings diferentes terminan con la misma letra (dos variables strings)\n",
    "palabra uno gato, palabra 2 pato true\n",
    "\n",
    "b) de una lista de palabras retornar true si las palabras inician con la misma letra. pan=[\"concha\", \"cuernito\", \"cemita\"]"
   ]
  },
  {
   "cell_type": "code",
   "execution_count": 48,
   "metadata": {},
   "outputs": [],
   "source": [
    "def revision_animal(animal, animal2):\n",
    "    if animal[-1].lower() == animal2[-1].lower():\n",
    "        return True\n",
    "    else:\n",
    "        return False"
   ]
  },
  {
   "cell_type": "code",
   "execution_count": 52,
   "metadata": {},
   "outputs": [
    {
     "data": {
      "text/plain": [
       "True"
      ]
     },
     "execution_count": 52,
     "metadata": {},
     "output_type": "execute_result"
    }
   ],
   "source": [
    "revision_animal(\"gato\",\"perro\")"
   ]
  },
  {
   "cell_type": "code",
   "execution_count": 2,
   "metadata": {},
   "outputs": [],
   "source": [
    "pan = [\"concha\",\"cuernito\",\"cemita\",\"orejita\"]"
   ]
  },
  {
   "cell_type": "code",
   "execution_count": 3,
   "metadata": {},
   "outputs": [],
   "source": [
    "def revision_pan(pan):\n",
    "    if pan[0][0].upper() == pan[1][0].upper() == pan[2][0].upper():\n",
    "        return True\n",
    "    else:\n",
    "        return False"
   ]
  },
  {
   "cell_type": "code",
   "execution_count": 4,
   "metadata": {},
   "outputs": [
    {
     "data": {
      "text/plain": [
       "True"
      ]
     },
     "execution_count": 4,
     "metadata": {},
     "output_type": "execute_result"
    }
   ],
   "source": [
    "revision_pan(pan)"
   ]
  },
  {
   "cell_type": "code",
   "execution_count": 5,
   "metadata": {},
   "outputs": [
    {
     "ename": "SyntaxError",
     "evalue": "invalid syntax (<ipython-input-5-1498081e907e>, line 4)",
     "output_type": "error",
     "traceback": [
      "\u001b[0;36m  File \u001b[0;32m\"<ipython-input-5-1498081e907e>\"\u001b[0;36m, line \u001b[0;32m4\u001b[0m\n\u001b[0;31m    while incial\u001b[0m\n\u001b[0m                 ^\u001b[0m\n\u001b[0;31mSyntaxError\u001b[0m\u001b[0;31m:\u001b[0m invalid syntax\n"
     ]
    }
   ],
   "source": [
    "def pancito(pan):\n",
    "    inicial = pan[0][0]\n",
    "    index = 0\n",
    "    print(inicial)\n",
    "    while incial "
   ]
  },
  {
   "cell_type": "code",
   "execution_count": 6,
   "metadata": {},
   "outputs": [
    {
     "ename": "NameError",
     "evalue": "name 'pancito' is not defined",
     "output_type": "error",
     "traceback": [
      "\u001b[0;31m---------------------------------------------------------------------------\u001b[0m",
      "\u001b[0;31mNameError\u001b[0m                                 Traceback (most recent call last)",
      "\u001b[0;32m<ipython-input-6-6ab4767d4439>\u001b[0m in \u001b[0;36m<module>\u001b[0;34m\u001b[0m\n\u001b[0;32m----> 1\u001b[0;31m \u001b[0mpancito\u001b[0m\u001b[0;34m(\u001b[0m\u001b[0mpan\u001b[0m\u001b[0;34m)\u001b[0m\u001b[0;34m\u001b[0m\u001b[0;34m\u001b[0m\u001b[0m\n\u001b[0m",
      "\u001b[0;31mNameError\u001b[0m: name 'pancito' is not defined"
     ]
    }
   ],
   "source": [
    "pancito(pan)"
   ]
  },
  {
   "cell_type": "markdown",
   "metadata": {},
   "source": [
    "Yoda style: Crea una funcion que reciba una frase (' yo tengo hambre') y la returne alreves como si fuera Yoda ('hambre tengo yo') NO - erbmah"
   ]
  },
  {
   "cell_type": "code",
   "execution_count": 3,
   "metadata": {},
   "outputs": [],
   "source": [
    "asiestoy = \"Yo tengo hambre\""
   ]
  },
  {
   "cell_type": "code",
   "execution_count": 4,
   "metadata": {},
   "outputs": [],
   "source": [
    "def hambre(estoyasi):\n",
    "    #hunger = estoyasi.split() # convierto mi string en lista\n",
    "    #print(hunger)\n",
    "    #print(hunger[::-1]) #revierto la lista \n",
    "    #print(\" \".join(hunger[::-1])) # unir los elementos de la lista y especifico que con un espacio\n",
    "    #print(\" \".join(estoyasi.split()[::-1])) #todo junto en uno\n",
    "    #return \" \".join(estoyasi.split()[::-1])\n",
    "    return [\"concha\",\"cuernito\",\"cemita\",\"orejita\"]\n",
    "        "
   ]
  },
  {
   "cell_type": "code",
   "execution_count": 5,
   "metadata": {},
   "outputs": [
    {
     "data": {
      "text/plain": [
       "['concha', 'cuernito', 'cemita', 'orejita']"
      ]
     },
     "execution_count": 5,
     "metadata": {},
     "output_type": "execute_result"
    }
   ],
   "source": [
    "hambre(asiestoy)"
   ]
  },
  {
   "cell_type": "code",
   "execution_count": null,
   "metadata": {},
   "outputs": [],
   "source": [
    "join.hunger()"
   ]
  },
  {
   "cell_type": "markdown",
   "metadata": {},
   "source": [
    "4. Crea una funcion que reciba un string ('hola') y returne un string donde cada elemento del string este repetido tres veces ('hhhooolllaaa)\n",
    "Hint:\n",
    "\n",
    "Iterar un string\n",
    "Multiplicar strings"
   ]
  },
  {
   "cell_type": "code",
   "execution_count": 51,
   "metadata": {},
   "outputs": [],
   "source": [
    "holis = \"hola\"\n",
    "def howdy(saludo): #entre parentesis son los argumentos \n",
    "    for letra in saludo:\n",
    "        print (f\"vuelta: {letra}\")\n",
    "    \n",
    "    #fail"
   ]
  },
  {
   "cell_type": "code",
   "execution_count": 52,
   "metadata": {},
   "outputs": [
    {
     "name": "stdout",
     "output_type": "stream",
     "text": [
      "vuelta: h\n",
      "vuelta: o\n",
      "vuelta: l\n",
      "vuelta: a\n"
     ]
    }
   ],
   "source": [
    "howdy(holis)"
   ]
  },
  {
   "cell_type": "code",
   "execution_count": 56,
   "metadata": {},
   "outputs": [],
   "source": [
    "def repeat_three_times(text):\n",
    "    result = \"\" #el valor lo vamos a asignar o llenarlo en cada vuelta\n",
    "    for letter in text:\n",
    "        print(letter * 3)"
   ]
  },
  {
   "cell_type": "code",
   "execution_count": 57,
   "metadata": {},
   "outputs": [
    {
     "name": "stdout",
     "output_type": "stream",
     "text": [
      "hhh\n",
      "ooo\n",
      "lll\n",
      "aaa\n"
     ]
    }
   ],
   "source": [
    "repeat_three_times(\"hola\")"
   ]
  },
  {
   "cell_type": "code",
   "execution_count": 81,
   "metadata": {},
   "outputs": [],
   "source": [
    "def repeat_time(n,text):\n",
    "    result = \"\"\n",
    "    for letter in text:\n",
    "        # print(letter * n) imprimiendo la letra multiplicada por n\n",
    "        result = result + (letter *n)\n",
    "        #print(result)\n",
    "    return(result)"
   ]
  },
  {
   "cell_type": "code",
   "execution_count": 83,
   "metadata": {},
   "outputs": [
    {
     "data": {
      "text/plain": [
       "'hhhooollliiisss!!!'"
      ]
     },
     "execution_count": 83,
     "metadata": {},
     "output_type": "execute_result"
    }
   ],
   "source": [
    "repeat_time(3,\"holis!\")"
   ]
  },
  {
   "cell_type": "markdown",
   "metadata": {},
   "source": [
    "Crear una funcion que revise dos numeros integers y returne True si el resultado de la suma de ambos numeros es 20, si no que retorne False"
   ]
  },
  {
   "cell_type": "code",
   "execution_count": 60,
   "metadata": {},
   "outputs": [],
   "source": [
    "def veinte(n1,n2):\n",
    "    if isinstance(n1, int) and isinstance(n2, int):\n",
    "        # print (\"integer\")\n",
    "        if n1+n2 == 20: \n",
    "            print (\"true\")\n",
    "        else:\n",
    "            print(\"false\")\n",
    "    else:\n",
    "        print(\"not an integer\")"
   ]
  },
  {
   "cell_type": "code",
   "execution_count": 62,
   "metadata": {},
   "outputs": [
    {
     "name": "stdout",
     "output_type": "stream",
     "text": [
      "true\n"
     ]
    }
   ],
   "source": [
    "veinte(10,10)"
   ]
  },
  {
   "cell_type": "code",
   "execution_count": null,
   "metadata": {},
   "outputs": [],
   "source": []
  }
 ],
 "metadata": {
  "kernelspec": {
   "display_name": "Python 3",
   "language": "python",
   "name": "python3"
  },
  "language_info": {
   "codemirror_mode": {
    "name": "ipython",
    "version": 3
   },
   "file_extension": ".py",
   "mimetype": "text/x-python",
   "name": "python",
   "nbconvert_exporter": "python",
   "pygments_lexer": "ipython3",
   "version": "3.7.4"
  }
 },
 "nbformat": 4,
 "nbformat_minor": 2
}
