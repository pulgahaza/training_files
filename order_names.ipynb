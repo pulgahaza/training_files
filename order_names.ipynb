{
 "cells": [
  {
   "cell_type": "code",
   "execution_count": null,
   "metadata": {},
   "outputs": [],
   "source": [
    "elc_members = [\"Ana\", \"Sof\",\"Diego\",\"Chio\",\"Lily\",\"July\",\"Pri\",\"Montse\",\"Carlos\", \"Vicky\",\"Isaias\", \"Z\",\"Gerry\"]"
   ]
  },
  {
   "cell_type": "code",
   "execution_count": null,
   "metadata": {},
   "outputs": [],
   "source": [
    "def standup_order(elc_names,order):\n",
    "    # f strings\n",
    "    #a = “DIego”\n",
    "    print(f”names outside if statement: {elc_names}“)\n",
    "    #print(“names outside if statement: {elc_names}“)\n",
    "    #print(“names outside if statement: ” + a + ” more text”)\n",
    "    if order == “a_to_z”:\n",
    "        print(f”names sort: {elc_names}“)\n",
    "        elc_names.sort()\n",
    "        print(f”after sort: {elc_names}“)\n",
    "    elif order == “z_to_a”:\n",
    "        print(f”names in reverse: {elc_names}“)\n",
    "        elc_names.sort(reverse= True)\n",
    "        print(f”after reverse: {elc_names}“)\n",
    "    elif order == “random”:\n",
    "        print(f”names in random: {elc_names}“)\n",
    "        random.shuffle(elc_names)\n",
    "        print(f”after random {elc_names}“)\n",
    "    print(f”new list: {elc_names}“)\n",
    "    return elc_names"
   ]
  }
 ],
 "metadata": {
  "kernelspec": {
   "display_name": "Python 3",
   "language": "python",
   "name": "python3"
  },
  "language_info": {
   "codemirror_mode": {
    "name": "ipython",
    "version": 3
   },
   "file_extension": ".py",
   "mimetype": "text/x-python",
   "name": "python",
   "nbconvert_exporter": "python",
   "pygments_lexer": "ipython3",
   "version": "3.7.4"
  }
 },
 "nbformat": 4,
 "nbformat_minor": 2
}
