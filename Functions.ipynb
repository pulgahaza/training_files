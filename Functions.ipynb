{
 "cells": [
  {
   "cell_type": "markdown",
   "metadata": {},
   "source": [
    "### Functions"
   ]
  },
  {
   "cell_type": "code",
   "execution_count": 2,
   "metadata": {},
   "outputs": [],
   "source": [
    "# function definition\n",
    "def greeting():\n",
    "    #here is the code\n",
    "    print(\"Hello world from this function\")"
   ]
  },
  {
   "cell_type": "code",
   "execution_count": 3,
   "metadata": {},
   "outputs": [
    {
     "name": "stdout",
     "output_type": "stream",
     "text": [
      "Hello world from this function\n"
     ]
    }
   ],
   "source": [
    "greeting()"
   ]
  },
  {
   "cell_type": "code",
   "execution_count": 6,
   "metadata": {},
   "outputs": [],
   "source": [
    "# Function with arguments definition not very efficient\n",
    "def greeting_2(name,lastname):\n",
    "    print(f\"Hello world, I'm {name} {lastname}\")\n"
   ]
  },
  {
   "cell_type": "code",
   "execution_count": 7,
   "metadata": {},
   "outputs": [
    {
     "name": "stdout",
     "output_type": "stream",
     "text": [
      "Hello world, I'm Ana Haza\n"
     ]
    }
   ],
   "source": [
    "greeting_2(\"Ana\", \"Haza\")"
   ]
  },
  {
   "cell_type": "code",
   "execution_count": 1,
   "metadata": {},
   "outputs": [],
   "source": [
    "name = \"Ana\""
   ]
  },
  {
   "cell_type": "code",
   "execution_count": 2,
   "metadata": {},
   "outputs": [
    {
     "data": {
      "text/plain": [
       "3"
      ]
     },
     "execution_count": 2,
     "metadata": {},
     "output_type": "execute_result"
    }
   ],
   "source": [
    "len(name)"
   ]
  },
  {
   "cell_type": "code",
   "execution_count": 21,
   "metadata": {},
   "outputs": [
    {
     "ename": "SyntaxError",
     "evalue": "invalid syntax (<ipython-input-21-4527dc592027>, line 5)",
     "output_type": "error",
     "traceback": [
      "\u001b[0;36m  File \u001b[0;32m\"<ipython-input-21-4527dc592027>\"\u001b[0;36m, line \u001b[0;32m5\u001b[0m\n\u001b[0;31m    for name in fullname\u001b[0m\n\u001b[0m                        ^\u001b[0m\n\u001b[0;31mSyntaxError\u001b[0m\u001b[0;31m:\u001b[0m invalid syntax\n"
     ]
    }
   ],
   "source": []
  },
  {
   "cell_type": "code",
   "execution_count": 24,
   "metadata": {},
   "outputs": [],
   "source": [
    "# the elegant function\n",
    "# 1. list of elc members\n",
    "elc_members = [\"Diego Ugalde\", \"Montse Arenas\", \"Vicky Cabral\" ,\"Z Qiu\", \"Pri Biswas\", \"Gerry Reynoso\", \"Chio Cerbon\", \"Carlos Yupanki\", \"Lily Torres\", \"Sofia Mejia\", \"Julieta Angeles\"]"
   ]
  },
  {
   "cell_type": "code",
   "execution_count": 23,
   "metadata": {},
   "outputs": [
    {
     "name": "stdout",
     "output_type": "stream",
     "text": [
      "Hi ['Diego Ugalde', 'Montse Arenas', 'Vicky Cabral', 'Z Qiu', 'Pri Biswas', 'Gerry Reynoso', 'Chio Cerbon', 'Carlos Yupanki', 'Lily Torres', 'Sofia Mejia', 'Julieta Angeles'] welcome to the ML Ops team\n"
     ]
    }
   ],
   "source": [
    "greeting_3(elc_members)\n",
    "# iterate over the list\n"
   ]
  },
  {
   "cell_type": "code",
   "execution_count": 28,
   "metadata": {},
   "outputs": [],
   "source": [
    "# Function with arguments definition test\n",
    "def greeting_3(fullname):\n",
    "    #print(fullname)\n",
    "    #iterate over the list\n",
    "    for name in fullname:\n",
    "        print(f\"Hi {name} welcome to the ML Ops Team\")"
   ]
  },
  {
   "cell_type": "code",
   "execution_count": 29,
   "metadata": {
    "scrolled": true
   },
   "outputs": [
    {
     "name": "stdout",
     "output_type": "stream",
     "text": [
      "Hi Diego Ugalde welcome to the ML Ops Team\n",
      "Hi Montse Arenas welcome to the ML Ops Team\n",
      "Hi Vicky Cabral welcome to the ML Ops Team\n",
      "Hi Z Qiu welcome to the ML Ops Team\n",
      "Hi Pri Biswas welcome to the ML Ops Team\n",
      "Hi Gerry Reynoso welcome to the ML Ops Team\n",
      "Hi Chio Cerbon welcome to the ML Ops Team\n",
      "Hi Carlos Yupanki welcome to the ML Ops Team\n",
      "Hi Lily Torres welcome to the ML Ops Team\n",
      "Hi Sofia Mejia welcome to the ML Ops Team\n",
      "Hi Julieta Angeles welcome to the ML Ops Team\n"
     ]
    }
   ],
   "source": [
    "greeting_3(elc_members)"
   ]
  },
  {
   "cell_type": "code",
   "execution_count": null,
   "metadata": {},
   "outputs": [],
   "source": [
    "#let's commit again"
   ]
  },
  {
   "cell_type": "code",
   "execution_count": null,
   "metadata": {},
   "outputs": [],
   "source": [
    "# funciones (yo lo creo) - metodos (funciones built in) - librerías (son hechos por terceros)"
   ]
  },
  {
   "cell_type": "code",
   "execution_count": 2,
   "metadata": {},
   "outputs": [],
   "source": [
    "from random import shuffle"
   ]
  },
  {
   "cell_type": "code",
   "execution_count": 3,
   "metadata": {},
   "outputs": [],
   "source": [
    "example = [1,2,3,4,5,6]"
   ]
  },
  {
   "cell_type": "code",
   "execution_count": 17,
   "metadata": {},
   "outputs": [
    {
     "name": "stdout",
     "output_type": "stream",
     "text": [
      "[2, 1, 3, 5, 4, 6]\n"
     ]
    }
   ],
   "source": [
    "shuffle(example)\n",
    "print(example)"
   ]
  },
  {
   "cell_type": "code",
   "execution_count": 11,
   "metadata": {},
   "outputs": [
    {
     "data": {
      "text/plain": [
       "[3, 5, 1, 4, 6, 2]"
      ]
     },
     "execution_count": 11,
     "metadata": {},
     "output_type": "execute_result"
    }
   ],
   "source": [
    "example"
   ]
  },
  {
   "cell_type": "code",
   "execution_count": 25,
   "metadata": {},
   "outputs": [],
   "source": [
    "mylist = [\" \",\"0\",\" \"]"
   ]
  },
  {
   "cell_type": "code",
   "execution_count": 28,
   "metadata": {},
   "outputs": [],
   "source": [
    "def shuffle_list(a_list_to_randomize):\n",
    "    shuffle(a_list_to_randomize)\n",
    "    #print(a_list_to_randomize)\n",
    "    return a_list_to_randomize"
   ]
  },
  {
   "cell_type": "code",
   "execution_count": 29,
   "metadata": {},
   "outputs": [
    {
     "data": {
      "text/plain": [
       "[' ', '0', ' ']"
      ]
     },
     "execution_count": 29,
     "metadata": {},
     "output_type": "execute_result"
    }
   ],
   "source": [
    "shuffle_list (mylist)"
   ]
  },
  {
   "cell_type": "code",
   "execution_count": 2,
   "metadata": {},
   "outputs": [],
   "source": [
    "def player_guess():\n",
    "    guess = \" \"\n",
    "    number_list = [\"0\",\"1\",\"2\"]\n",
    "    while guess not in number_list:\n",
    "        guess = input(\"Pick a number 0,1 or 2\")\n",
    "    return int(guess)"
   ]
  },
  {
   "cell_type": "code",
   "execution_count": 3,
   "metadata": {},
   "outputs": [
    {
     "name": "stdout",
     "output_type": "stream",
     "text": [
      "Pick a number 0,1 or 23\n",
      "Pick a number 0,1 or 24\n",
      "Pick a number 0,1 or 25\n",
      "Pick a number 0,1 or 28\n",
      "Pick a number 0,1 or 27\n",
      "Pick a number 0,1 or 26\n",
      "Pick a number 0,1 or 25\n",
      "Pick a number 0,1 or 24\n",
      "Pick a number 0,1 or 23\n",
      "Pick a number 0,1 or 22\n"
     ]
    },
    {
     "data": {
      "text/plain": [
       "2"
      ]
     },
     "execution_count": 3,
     "metadata": {},
     "output_type": "execute_result"
    }
   ],
   "source": [
    "player_guess()"
   ]
  },
  {
   "cell_type": "code",
   "execution_count": 19,
   "metadata": {},
   "outputs": [],
   "source": [
    "def revisar_si_es_chio(nombre):\n",
    "    while nombre != \"Chio\":\n",
    "        print(\"Tu no eres Chio\")\n",
    "        nombre = input(\"Ve por Chio! Cual es tu nombre?:\")"
   ]
  },
  {
   "cell_type": "code",
   "execution_count": 20,
   "metadata": {},
   "outputs": [],
   "source": [
    "nombre_sugerido = \"Ana\""
   ]
  },
  {
   "cell_type": "code",
   "execution_count": 21,
   "metadata": {},
   "outputs": [
    {
     "name": "stdout",
     "output_type": "stream",
     "text": [
      "Tu no eres Chio\n",
      "Ve por Chio! Cual es tu nombre?:Diego\n",
      "Tu no eres Chio\n",
      "Ve por Chio! Cual es tu nombre?:Sofia\n",
      "Tu no eres Chio\n",
      "Ve por Chio! Cual es tu nombre?:Chio\n"
     ]
    }
   ],
   "source": [
    "revisar_si_es_chio(nombre_sugerido)"
   ]
  },
  {
   "cell_type": "code",
   "execution_count": null,
   "metadata": {},
   "outputs": [],
   "source": [
    "# Ejercicio\n",
    "# El usuario va a pedir la bebida\n",
    "# La funcion tiene que revisar que dentro de la lista exista la bebida que el usuario pide\n",
    "# mientras la bebida no exista la funcion tiene que seguir preguntando"
   ]
  },
  {
   "cell_type": "code",
   "execution_count": 67,
   "metadata": {},
   "outputs": [],
   "source": [
    "def orden_de_bebida(bebida):\n",
    "    while bebida not in bebida_list:\n",
    "        print(\"No tenemos en existencia\")\n",
    "        bebida = input(\"Que vas a querer tomar?:\")\n",
    "    return bebida"
   ]
  },
  {
   "cell_type": "code",
   "execution_count": 68,
   "metadata": {},
   "outputs": [],
   "source": [
    "def trabajando(bebida_elegida):\n",
    "    print (f\"Estoy trabajando en tu {bebida_elegida}\")"
   ]
  },
  {
   "cell_type": "code",
   "execution_count": 69,
   "metadata": {},
   "outputs": [],
   "source": [
    "bebida_list = [\"Bubble Tea\",\"Smoothie\",\"Tea\",\"Chai\"]"
   ]
  },
  {
   "cell_type": "code",
   "execution_count": 70,
   "metadata": {},
   "outputs": [
    {
     "name": "stdout",
     "output_type": "stream",
     "text": [
      "No tenemos en existencia\n",
      "Que vas a querer tomar?:Bubble Tea\n"
     ]
    }
   ],
   "source": [
    "bebida_elegida_menu = orden_de_bebida(bebida_list)"
   ]
  },
  {
   "cell_type": "code",
   "execution_count": 71,
   "metadata": {},
   "outputs": [
    {
     "name": "stdout",
     "output_type": "stream",
     "text": [
      "Estoy trabajando en tu Bubble Tea\n"
     ]
    }
   ],
   "source": [
    "trabajando(bebida_elegida_menu)"
   ]
  },
  {
   "cell_type": "code",
   "execution_count": null,
   "metadata": {},
   "outputs": [],
   "source": []
  }
 ],
 "metadata": {
  "kernelspec": {
   "display_name": "Python 3",
   "language": "python",
   "name": "python3"
  },
  "language_info": {
   "codemirror_mode": {
    "name": "ipython",
    "version": 3
   },
   "file_extension": ".py",
   "mimetype": "text/x-python",
   "name": "python",
   "nbconvert_exporter": "python",
   "pygments_lexer": "ipython3",
   "version": "3.7.4"
  }
 },
 "nbformat": 4,
 "nbformat_minor": 2
}
