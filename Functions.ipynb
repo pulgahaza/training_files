{
 "cells": [
  {
   "cell_type": "markdown",
   "metadata": {},
   "source": [
    "### Functions"
   ]
  },
  {
   "cell_type": "code",
   "execution_count": 2,
   "metadata": {},
   "outputs": [],
   "source": [
    "# function definition\n",
    "def greeting():\n",
    "    #here is the code\n",
    "    print(\"Hello world from this function\")"
   ]
  },
  {
   "cell_type": "code",
   "execution_count": 3,
   "metadata": {},
   "outputs": [
    {
     "name": "stdout",
     "output_type": "stream",
     "text": [
      "Hello world from this function\n"
     ]
    }
   ],
   "source": [
    "greeting()"
   ]
  },
  {
   "cell_type": "code",
   "execution_count": 6,
   "metadata": {},
   "outputs": [],
   "source": [
    "# Function with arguments definition not very efficient\n",
    "def greeting_2(name,lastname):\n",
    "    print(f\"Hello world, I'm {name} {lastname}\")\n"
   ]
  },
  {
   "cell_type": "code",
   "execution_count": 7,
   "metadata": {},
   "outputs": [
    {
     "name": "stdout",
     "output_type": "stream",
     "text": [
      "Hello world, I'm Ana Haza\n"
     ]
    }
   ],
   "source": [
    "greeting_2(\"Ana\", \"Haza\")"
   ]
  },
  {
   "cell_type": "code",
   "execution_count": 1,
   "metadata": {},
   "outputs": [],
   "source": [
    "name = \"Ana\""
   ]
  },
  {
   "cell_type": "code",
   "execution_count": 2,
   "metadata": {},
   "outputs": [
    {
     "data": {
      "text/plain": [
       "3"
      ]
     },
     "execution_count": 2,
     "metadata": {},
     "output_type": "execute_result"
    }
   ],
   "source": [
    "len(name)"
   ]
  },
  {
   "cell_type": "code",
   "execution_count": 21,
   "metadata": {},
   "outputs": [
    {
     "ename": "SyntaxError",
     "evalue": "invalid syntax (<ipython-input-21-4527dc592027>, line 5)",
     "output_type": "error",
     "traceback": [
      "\u001b[0;36m  File \u001b[0;32m\"<ipython-input-21-4527dc592027>\"\u001b[0;36m, line \u001b[0;32m5\u001b[0m\n\u001b[0;31m    for name in fullname\u001b[0m\n\u001b[0m                        ^\u001b[0m\n\u001b[0;31mSyntaxError\u001b[0m\u001b[0;31m:\u001b[0m invalid syntax\n"
     ]
    }
   ],
   "source": []
  },
  {
   "cell_type": "code",
   "execution_count": 24,
   "metadata": {},
   "outputs": [],
   "source": [
    "# the elegant function\n",
    "# 1. list of elc members\n",
    "elc_members = [\"Diego Ugalde\", \"Montse Arenas\", \"Vicky Cabral\" ,\"Z Qiu\", \"Pri Biswas\", \"Gerry Reynoso\", \"Chio Cerbon\", \"Carlos Yupanki\", \"Lily Torres\", \"Sofia Mejia\", \"Julieta Angeles\"]"
   ]
  },
  {
   "cell_type": "code",
   "execution_count": 23,
   "metadata": {},
   "outputs": [
    {
     "name": "stdout",
     "output_type": "stream",
     "text": [
      "Hi ['Diego Ugalde', 'Montse Arenas', 'Vicky Cabral', 'Z Qiu', 'Pri Biswas', 'Gerry Reynoso', 'Chio Cerbon', 'Carlos Yupanki', 'Lily Torres', 'Sofia Mejia', 'Julieta Angeles'] welcome to the ML Ops team\n"
     ]
    }
   ],
   "source": [
    "greeting_3(elc_members)\n",
    "# iterate over the list\n"
   ]
  },
  {
   "cell_type": "code",
   "execution_count": 28,
   "metadata": {},
   "outputs": [],
   "source": [
    "# Function with arguments definition test\n",
    "def greeting_3(fullname):\n",
    "    #print(fullname)\n",
    "    #iterate over the list\n",
    "    for name in fullname:\n",
    "        print(f\"Hi {name} welcome to the ML Ops Team\")"
   ]
  },
  {
   "cell_type": "code",
   "execution_count": 29,
   "metadata": {
    "scrolled": true
   },
   "outputs": [
    {
     "name": "stdout",
     "output_type": "stream",
     "text": [
      "Hi Diego Ugalde welcome to the ML Ops Team\n",
      "Hi Montse Arenas welcome to the ML Ops Team\n",
      "Hi Vicky Cabral welcome to the ML Ops Team\n",
      "Hi Z Qiu welcome to the ML Ops Team\n",
      "Hi Pri Biswas welcome to the ML Ops Team\n",
      "Hi Gerry Reynoso welcome to the ML Ops Team\n",
      "Hi Chio Cerbon welcome to the ML Ops Team\n",
      "Hi Carlos Yupanki welcome to the ML Ops Team\n",
      "Hi Lily Torres welcome to the ML Ops Team\n",
      "Hi Sofia Mejia welcome to the ML Ops Team\n",
      "Hi Julieta Angeles welcome to the ML Ops Team\n"
     ]
    }
   ],
   "source": [
    "greeting_3(elc_members)"
   ]
  },
  {
   "cell_type": "code",
   "execution_count": null,
   "metadata": {},
   "outputs": [],
   "source": [
    "#let's commit again"
   ]
  }
 ],
 "metadata": {
  "kernelspec": {
   "display_name": "Python 3",
   "language": "python",
   "name": "python3"
  },
  "language_info": {
   "codemirror_mode": {
    "name": "ipython",
    "version": 3
   },
   "file_extension": ".py",
   "mimetype": "text/x-python",
   "name": "python",
   "nbconvert_exporter": "python",
   "pygments_lexer": "ipython3",
   "version": "3.7.4"
  }
 },
 "nbformat": 4,
 "nbformat_minor": 2
}
