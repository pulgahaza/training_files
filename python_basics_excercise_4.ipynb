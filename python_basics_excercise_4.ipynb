{
 "cells": [
  {
   "cell_type": "markdown",
   "metadata": {},
   "source": [
    "## If, elif, else and loops excercises"
   ]
  },
  {
   "cell_type": "markdown",
   "metadata": {},
   "source": [
    "### Excercise 1\n",
    "\n",
    "1. Create a list of Espressive members.\n",
    "\n",
    "e.g\n",
    "\n",
    "espressive_members = [\"Rocio\",\"July\",\"Montse\",\"Becca\",\"Diego\",\"Liliana\",\"Ana\",\"Sofia\",\"Vale\",\"Vicky\",\"Carlos\"]\n",
    "\n",
    "Possible possition:\n",
    "\n",
    "- Conversational AI Analyst\n",
    "- Technical Writer\n",
    "- Sales Development Representative\n",
    "- HR Generalist\n",
    "\n",
    "Espressive crew\n",
    "\n",
    "- ELC\n",
    "- Sales\n",
    "- Administration\n",
    "\n",
    "\n",
    "2. Using a loop to iterate over the list:\n",
    "\n",
    "    A) print the correspondent possition for each member\n",
    "    \n",
    "    B) create rules to print the correspondent espressive crew depending on the members"
   ]
  },
  {
   "cell_type": "code",
   "execution_count": 3,
   "metadata": {},
   "outputs": [],
   "source": [
    "espressive_members={\"ELC\":\"Rocio\",\"July\",\"Montse\",\"Becca\",\"Diego\",\"Liliana\",\"Ana\",\"Sofia\",\"Vale\",\"Vicky\",\"Carlos\",\"Gerry\"]\n",
    "possible_position=[\"Conversational AI Analyst\",\"Technical Writer\",\"Sales Development\",\"HR Generalist\"]\n",
    "espressive_crew=[\"ELC\",\"Sales\",\"Administration\"]"
   ]
  },
  {
   "cell_type": "code",
   "execution_count": 11,
   "metadata": {},
   "outputs": [],
   "source": [
    "espressive_members = [\"Rocio\",\"July\",\"Montse\",\"Becca\",\"Diego\",\"Liliana\",\"Ana\",\"Sofia\",\"Vale\",\"Vicky\",\"Carlos\",\"Gerry\",\"Roberto\"]"
   ]
  },
  {
   "cell_type": "code",
   "execution_count": 14,
   "metadata": {},
   "outputs": [
    {
     "name": "stdout",
     "output_type": "stream",
     "text": [
      "Rocio is an ELC member and they are Conversational AI analyst\n",
      "July is an ELC member and they are Conversational AI analyst\n",
      "Montse is an ELC member and they are Technical Writers\n",
      "Becca is a Sales member and she is a Sales Rep\n",
      "Diego is an ELC member and they are Technical Writers\n",
      "Liliana is an ELC member and they are Conversational AI analyst\n",
      "Ana is an ELC member and they are Conversational AI analyst\n",
      "Sofia is an ELC member and they are Conversational AI analyst\n",
      "Vale is an Administration member and she is a HR Generalist\n",
      "Vicky is an ELC member and they are Technical Writers\n",
      "Carlos is an ELC member and they are Conversational AI analyst\n",
      "Gerry is an ELC member and he is the Excel King\n",
      "Roberto they do not belong to Espressive\n"
     ]
    }
   ],
   "source": [
    "for member in espressive_members:\n",
    "    if member == \"Rocio\" or member == \"July\" or member == \"Liliana\" or member == \"Ana\" or member == \"Sofia\" or member == \"Carlos\":\n",
    "        print(f\"{member} is an ELC member and they are Conversational AI analyst\")\n",
    "    elif member == \"Vicky\" or member == \"Montse\" or member == \"Diego\":\n",
    "        print(f\"{member} is an ELC member and they are Technical Writers\")\n",
    "    elif member == \"Gerry\":\n",
    "        print(f\"{member} is an ELC member and he is the Excel King\")\n",
    "    elif member == \"Vale\":\n",
    "        print(f\"{member} is an Administration member and she is a HR Generalist\")\n",
    "    elif member == \"Becca\":\n",
    "        print(f\"{member} is a Sales member and she is a Sales Rep\")\n",
    "    else:\n",
    "        print(f\"{member} they do not belong to Espressive\")"
   ]
  },
  {
   "cell_type": "code",
   "execution_count": null,
   "metadata": {},
   "outputs": [],
   "source": []
  },
  {
   "cell_type": "markdown",
   "metadata": {},
   "source": [
    "### Excercise 2\n",
    "\n",
    "\"I need install Teams\"\n",
    "\n",
    "1. Stored the String in a variable\n",
    "\n",
    "2. Create a list from a that string\n",
    "\n",
    "3. Using position assign the list items to values to the correspondent keys in the dictionary \"Parsed interaction\"\n",
    "\n",
    "parsed_interaction = {\"aux_verb\":\"\",verb\":\"\",\"app\":\"\"}\n",
    "\n",
    "4. Create an algorithm that interate over the dictionary and create the following constrains:\n",
    "\n",
    "    \n",
    "    **b) differentiate 'install'/'unistall' each one has to lead to a different intent**\n",
    "   \n",
    "    \n",
    "    c) differentiate 'Teams'/'Zoom'/'google meet' each one has to lead to a different intent\n"
   ]
  },
  {
   "cell_type": "code",
   "execution_count": 1,
   "metadata": {},
   "outputs": [],
   "source": [
    "user_interaction=\"I need install zoom\""
   ]
  },
  {
   "cell_type": "code",
   "execution_count": 2,
   "metadata": {},
   "outputs": [
    {
     "data": {
      "text/plain": [
       "['I', 'need', 'install', 'zoom']"
      ]
     },
     "execution_count": 2,
     "metadata": {},
     "output_type": "execute_result"
    }
   ],
   "source": [
    "user_interaction.split()"
   ]
  },
  {
   "cell_type": "code",
   "execution_count": 3,
   "metadata": {},
   "outputs": [],
   "source": [
    "parsed_interaction = user_interaction.split()"
   ]
  },
  {
   "cell_type": "code",
   "execution_count": 4,
   "metadata": {},
   "outputs": [
    {
     "data": {
      "text/plain": [
       "['I', 'need', 'install', 'zoom']"
      ]
     },
     "execution_count": 4,
     "metadata": {},
     "output_type": "execute_result"
    }
   ],
   "source": [
    "parsed_interaction"
   ]
  },
  {
   "cell_type": "code",
   "execution_count": 5,
   "metadata": {},
   "outputs": [
    {
     "data": {
      "text/plain": [
       "'install'"
      ]
     },
     "execution_count": 5,
     "metadata": {},
     "output_type": "execute_result"
    }
   ],
   "source": [
    "parsed_interaction[2]"
   ]
  },
  {
   "cell_type": "code",
   "execution_count": 6,
   "metadata": {},
   "outputs": [
    {
     "data": {
      "text/plain": [
       "'zoom'"
      ]
     },
     "execution_count": 6,
     "metadata": {},
     "output_type": "execute_result"
    }
   ],
   "source": [
    "parsed_interaction[3]"
   ]
  },
  {
   "cell_type": "code",
   "execution_count": 29,
   "metadata": {},
   "outputs": [],
   "source": [
    "# b['animal'] = 'Dog'"
   ]
  },
  {
   "cell_type": "code",
   "execution_count": 7,
   "metadata": {},
   "outputs": [],
   "source": [
    "interaction_entities = {\"verb\":\"\",\"app\":\"\"}"
   ]
  },
  {
   "cell_type": "code",
   "execution_count": 8,
   "metadata": {},
   "outputs": [
    {
     "data": {
      "text/plain": [
       "{'verb': '', 'app': ''}"
      ]
     },
     "execution_count": 8,
     "metadata": {},
     "output_type": "execute_result"
    }
   ],
   "source": [
    "interaction_entities"
   ]
  },
  {
   "cell_type": "code",
   "execution_count": 9,
   "metadata": {},
   "outputs": [],
   "source": [
    "interaction_entities[\"verb\"] = parsed_interaction[2]"
   ]
  },
  {
   "cell_type": "code",
   "execution_count": 11,
   "metadata": {},
   "outputs": [
    {
     "data": {
      "text/plain": [
       "{'verb': 'install', 'app': 'zoom'}"
      ]
     },
     "execution_count": 11,
     "metadata": {},
     "output_type": "execute_result"
    }
   ],
   "source": [
    "interaction_entities"
   ]
  },
  {
   "cell_type": "code",
   "execution_count": 10,
   "metadata": {},
   "outputs": [],
   "source": [
    "interaction_entities[\"app\"] = parsed_interaction[3]"
   ]
  },
  {
   "cell_type": "code",
   "execution_count": 16,
   "metadata": {},
   "outputs": [
    {
     "name": "stdout",
     "output_type": "stream",
     "text": [
      "verb\n",
      "install\n",
      "app\n",
      "zoom\n"
     ]
    }
   ],
   "source": [
    "for verb,app in interaction_entities.items():\n",
    "    print(verb)\n",
    "    print(app)"
   ]
  },
  {
   "cell_type": "code",
   "execution_count": 17,
   "metadata": {
    "scrolled": true
   },
   "outputs": [
    {
     "name": "stdout",
     "output_type": "stream",
     "text": [
      "install\n",
      "zoom\n"
     ]
    }
   ],
   "source": [
    "for entity in interaction_entities.values():\n",
    "    print(entity)"
   ]
  },
  {
   "cell_type": "code",
   "execution_count": 18,
   "metadata": {},
   "outputs": [
    {
     "name": "stdout",
     "output_type": "stream",
     "text": [
      "verb\n",
      "app\n"
     ]
    }
   ],
   "source": [
    "for entity in interaction_entities.keys():\n",
    "    print(entity)"
   ]
  },
  {
   "cell_type": "code",
   "execution_count": 19,
   "metadata": {},
   "outputs": [
    {
     "name": "stdout",
     "output_type": "stream",
     "text": [
      "verb\n",
      "app\n"
     ]
    }
   ],
   "source": [
    "for entity in interaction_entities:\n",
    "    print(entity)"
   ]
  },
  {
   "cell_type": "code",
   "execution_count": 43,
   "metadata": {},
   "outputs": [
    {
     "name": "stdout",
     "output_type": "stream",
     "text": [
      "I need to install something\n",
      "ask me something\n",
      "I don't have that app\n",
      "I need to install zoom\n"
     ]
    }
   ],
   "source": [
    "interaction_verb = \"\"\n",
    "interaction_app = \"\"\n",
    "for key,value in interaction_entities.items():\n",
    "    if value == \"install\":\n",
    "        print(\"I need to install something\")\n",
    "        interaction_verb = value\n",
    "    else:\n",
    "        print(\"ask me something\")        \n",
    "\n",
    "for key,value in interaction_entities.items():\n",
    "    if value == \"zoom\":\n",
    "        print(\"I need to install zoom\")\n",
    "        interaction_app = value\n",
    "    else:\n",
    "        print(\"I don't have that app\")"
   ]
  },
  {
   "cell_type": "code",
   "execution_count": 44,
   "metadata": {},
   "outputs": [
    {
     "data": {
      "text/plain": [
       "'zoom'"
      ]
     },
     "execution_count": 44,
     "metadata": {},
     "output_type": "execute_result"
    }
   ],
   "source": [
    "interaction_app"
   ]
  },
  {
   "cell_type": "code",
   "execution_count": null,
   "metadata": {},
   "outputs": [],
   "source": []
  }
 ],
 "metadata": {
  "kernelspec": {
   "display_name": "Python 3",
   "language": "python",
   "name": "python3"
  },
  "language_info": {
   "codemirror_mode": {
    "name": "ipython",
    "version": 3
   },
   "file_extension": ".py",
   "mimetype": "text/x-python",
   "name": "python",
   "nbconvert_exporter": "python",
   "pygments_lexer": "ipython3",
   "version": "3.7.4"
  }
 },
 "nbformat": 4,
 "nbformat_minor": 5
}
